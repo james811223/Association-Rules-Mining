{
  "nbformat": 4,
  "nbformat_minor": 0,
  "metadata": {
    "colab": {
      "name": "Relax Inc. Take-Home Challenge.ipynb",
      "provenance": [],
      "authorship_tag": "ABX9TyOreLZcket/OZb1M+kHK6v2",
      "include_colab_link": true
    },
    "kernelspec": {
      "name": "python3",
      "display_name": "Python 3"
    }
  },
  "cells": [
    {
      "cell_type": "markdown",
      "metadata": {
        "id": "view-in-github",
        "colab_type": "text"
      },
      "source": [
        "<a href=\"https://colab.research.google.com/github/james811223/Association-Rules-Mining/blob/master/Relax%20Inc.%20Take-Home%20Challenge/Relax_Inc_Take_Home_Challenge.ipynb\" target=\"_parent\"><img src=\"https://colab.research.google.com/assets/colab-badge.svg\" alt=\"Open In Colab\"/></a>"
      ]
    },
    {
      "cell_type": "markdown",
      "metadata": {
        "id": "-J9svaKKO3a8",
        "colab_type": "text"
      },
      "source": [
        "The data is available as two attached CSV files:  \n",
        "takehome_user_engagement.csv  \n",
        "takehome_users.csv  \n",
        "The data has the following two tables:  \n",
        "1. A user table ( \"takehome_users\" ) with data on 12,000 users who signed up for the product in the last two years. This table includes:  \n",
        "* name: the user's name\n",
        "* object_id: the user's id\n",
        "* email: email address\n",
        "* creation_source: how their account was created. This takes on one of 5 values:  \n",
        "○ PERSONAL_PROJECTS: invited to join another user's personal workspace  \n",
        "○ GUEST_INVITE: invited to an organization as a guest(limited permissions)  \n",
        "○ ORG_INVITE: invited to an organization (as a full member)  \n",
        "○ SIGNUP: signed up via the website  \n",
        "○ SIGNUP_GOOGLE_AUTH: signed up using Google Authentication (using a Google email account for their login id)  \n",
        "* creation_time: when they created their account\n",
        "* last_session_creation_time: unix timestamp of last login\n",
        "* opted_in_to_mailing_list: whether they have opted into receiving\n",
        "marketing emails\n",
        "* enabled_for_marketing_drip: whether they are on the regular\n",
        "marketing email drip\n",
        "* org_id: the organization (group of users) they belong to\n",
        "* invited_by_user_id: which user invited them to join (if applicable).\n",
        "2. A usage summary table ( \"takehome_user_engagement\" ) that has a row for each day that a user logged into the product.  \n",
        "Defining an \"adopted user\" as a user who has logged into the product on three separate days in at least one sevenday period , identify which factors predict future user adoption.\n",
        "We suggest spending 12 hours on this, but you're welcome to spend more or less.  \n",
        "Please send us a brief writeup of your findings (the more concise, the better no more than one page), along with any summary tables, graphs, code, or queries that can help us understand your approach. Please note any factors you considered or investigation you did, even if they did not pan out. Feel free to identify any further research or data you think would be valuable."
      ]
    },
    {
      "cell_type": "markdown",
      "metadata": {
        "id": "iiSeWfFYkcxo",
        "colab_type": "text"
      },
      "source": [
        "# Set up"
      ]
    },
    {
      "cell_type": "code",
      "metadata": {
        "id": "4y_Fi3JWPn_e",
        "colab_type": "code",
        "colab": {}
      },
      "source": [
        "import pandas as pd, matplotlib.pyplot as plt, seaborn as sns\n",
        "from tqdm import tqdm\n",
        "%matplotlib inline\n",
        "from sklearn.model_selection import train_test_split\n",
        "from sklearn.svm import LinearSVC as svm\n",
        "from sklearn.model_selection import RandomizedSearchCV\n",
        "from sklearn.ensemble import RandomForestClassifier\n",
        "from sklearn.model_selection import cross_val_score as cvs\n",
        "from sklearn.linear_model import LogisticRegression\n",
        "from imblearn.under_sampling import RandomUnderSampler"
      ],
      "execution_count": null,
      "outputs": []
    },
    {
      "cell_type": "code",
      "metadata": {
        "id": "30xlESp3zh7o",
        "colab_type": "code",
        "colab": {}
      },
      "source": [
        "sns.set_style('darkgrid', {'figure.facecolor': 'lightblue'})"
      ],
      "execution_count": 60,
      "outputs": []
    },
    {
      "cell_type": "code",
      "metadata": {
        "id": "sYCXG7iIQB4z",
        "colab_type": "code",
        "colab": {}
      },
      "source": [
        "user = pd.read_csv('http://www.sharecsv.com/dl/8a6f251a04513b0d44dcf02cd1546641/takehome_users.csv', \n",
        "                   encoding = 'ISO-8859-1', parse_dates = ['creation_time'])\n",
        "usage = pd.read_csv('https://raw.githubusercontent.com/james811223/Data/master/takehome_user_engagement.csv', parse_dates = ['time_stamp'])"
      ],
      "execution_count": 28,
      "outputs": []
    },
    {
      "cell_type": "markdown",
      "metadata": {
        "id": "gXAcI0wDkiip",
        "colab_type": "text"
      },
      "source": [
        "# Data wrangling"
      ]
    },
    {
      "cell_type": "markdown",
      "metadata": {
        "id": "KPg-6921iVfE",
        "colab_type": "text"
      },
      "source": [
        "Get ids of adopted users."
      ]
    },
    {
      "cell_type": "code",
      "metadata": {
        "id": "e4DOGcqwzHsx",
        "colab_type": "code",
        "colab": {
          "base_uri": "https://localhost:8080/",
          "height": 34
        },
        "outputId": "d380c554-42ae-40c2-e766-5868d2e07c88"
      },
      "source": [
        "adopted_id = []\n",
        "for id in tqdm(user.object_id.unique()):\n",
        "    time_stamp = usage.query('user_id == @id').time_stamp.to_list()\n",
        "    if len(time_stamp) > 2:\n",
        "        i = 0\n",
        "        while 1 == 1:\n",
        "            try:\n",
        "                if (time_stamp[i + 2] - time_stamp[i]).days < 8:\n",
        "                    adopted_id += [id]\n",
        "                    break\n",
        "            except:\n",
        "                break\n",
        "            i += 1"
      ],
      "execution_count": 46,
      "outputs": [
        {
          "output_type": "stream",
          "text": [
            "100%|██████████| 12000/12000 [00:48<00:00, 244.96it/s]\n"
          ],
          "name": "stderr"
        }
      ]
    },
    {
      "cell_type": "markdown",
      "metadata": {
        "id": "sOu01vbyixvV",
        "colab_type": "text"
      },
      "source": [
        "Add adopted column indicating user is adopted or not."
      ]
    },
    {
      "cell_type": "code",
      "metadata": {
        "id": "Ir6mtSFhgVG8",
        "colab_type": "code",
        "colab": {}
      },
      "source": [
        "user['adopted'] = user.object_id.isin(adopted_id)\n",
        "user.adopted = user.adopted.astype(int)"
      ],
      "execution_count": 48,
      "outputs": []
    },
    {
      "cell_type": "markdown",
      "metadata": {
        "id": "W2yu1jnUmmkn",
        "colab_type": "text"
      },
      "source": [
        "Extract features and target columns."
      ]
    },
    {
      "cell_type": "code",
      "metadata": {
        "id": "1TFGklYunBhU",
        "colab_type": "code",
        "colab": {}
      },
      "source": [
        "X = user[['creation_source', 'opted_in_to_mailing_list', 'enabled_for_marketing_drip', 'org_id', 'invited_by_user_id']].copy()\n",
        "y = user.adopted.copy()"
      ],
      "execution_count": 49,
      "outputs": []
    },
    {
      "cell_type": "markdown",
      "metadata": {
        "id": "gPzISgItXJ0t",
        "colab_type": "text"
      },
      "source": [
        "Check missing values"
      ]
    },
    {
      "cell_type": "code",
      "metadata": {
        "id": "j_rce90LXO_N",
        "colab_type": "code",
        "colab": {
          "base_uri": "https://localhost:8080/",
          "height": 225
        },
        "outputId": "d3f79f13-612d-4e87-d2fc-0bd8024a9b4f"
      },
      "source": [
        "X.info()"
      ],
      "execution_count": 50,
      "outputs": [
        {
          "output_type": "stream",
          "text": [
            "<class 'pandas.core.frame.DataFrame'>\n",
            "RangeIndex: 12000 entries, 0 to 11999\n",
            "Data columns (total 5 columns):\n",
            " #   Column                      Non-Null Count  Dtype  \n",
            "---  ------                      --------------  -----  \n",
            " 0   creation_source             12000 non-null  object \n",
            " 1   opted_in_to_mailing_list    12000 non-null  int64  \n",
            " 2   enabled_for_marketing_drip  12000 non-null  int64  \n",
            " 3   org_id                      12000 non-null  int64  \n",
            " 4   invited_by_user_id          6417 non-null   float64\n",
            "dtypes: float64(1), int64(3), object(1)\n",
            "memory usage: 468.9+ KB\n"
          ],
          "name": "stdout"
        }
      ]
    },
    {
      "cell_type": "code",
      "metadata": {
        "id": "VSNfxIjKaj8v",
        "colab_type": "code",
        "colab": {
          "base_uri": "https://localhost:8080/",
          "height": 51
        },
        "outputId": "1d482ea4-6be8-4973-ea90-c25020797b4c"
      },
      "source": [
        "print(X[X.invited_by_user_id.notnull()].creation_source.unique())\n",
        "X[X.invited_by_user_id.isnull()].creation_source.unique()"
      ],
      "execution_count": 51,
      "outputs": [
        {
          "output_type": "stream",
          "text": [
            "['GUEST_INVITE' 'ORG_INVITE']\n"
          ],
          "name": "stdout"
        },
        {
          "output_type": "execute_result",
          "data": {
            "text/plain": [
              "array(['SIGNUP', 'PERSONAL_PROJECTS', 'SIGNUP_GOOGLE_AUTH'], dtype=object)"
            ]
          },
          "metadata": {
            "tags": []
          },
          "execution_count": 51
        }
      ]
    },
    {
      "cell_type": "markdown",
      "metadata": {
        "id": "z11Pmkj5lr1A",
        "colab_type": "text"
      },
      "source": [
        "All missing values from invited_by_user_id column are missing because they did not join by invitation."
      ]
    },
    {
      "cell_type": "markdown",
      "metadata": {
        "id": "6elgSjOrmwFB",
        "colab_type": "text"
      },
      "source": [
        "Fill missing value with string \"drop\"."
      ]
    },
    {
      "cell_type": "code",
      "metadata": {
        "id": "RyhXIV4nmvrz",
        "colab_type": "code",
        "colab": {}
      },
      "source": [
        "X.fillna('drop', inplace = 1 == 1)"
      ],
      "execution_count": 52,
      "outputs": []
    },
    {
      "cell_type": "markdown",
      "metadata": {
        "id": "R_Sn-JM2-lu7",
        "colab_type": "text"
      },
      "source": [
        "Check data types"
      ]
    },
    {
      "cell_type": "code",
      "metadata": {
        "id": "wM7zJ0T7-kz5",
        "colab_type": "code",
        "colab": {
          "base_uri": "https://localhost:8080/",
          "height": 121
        },
        "outputId": "74488966-c7fb-4293-f53f-799039486b45"
      },
      "source": [
        "X.dtypes"
      ],
      "execution_count": 53,
      "outputs": [
        {
          "output_type": "execute_result",
          "data": {
            "text/plain": [
              "creation_source               object\n",
              "opted_in_to_mailing_list       int64\n",
              "enabled_for_marketing_drip     int64\n",
              "org_id                         int64\n",
              "invited_by_user_id            object\n",
              "dtype: object"
            ]
          },
          "metadata": {
            "tags": []
          },
          "execution_count": 53
        }
      ]
    },
    {
      "cell_type": "markdown",
      "metadata": {
        "id": "rXZk9pXj-sdh",
        "colab_type": "text"
      },
      "source": [
        "Convert org_id and invited_by_user_id to string."
      ]
    },
    {
      "cell_type": "code",
      "metadata": {
        "id": "Mu-AaZK9-5Wz",
        "colab_type": "code",
        "colab": {}
      },
      "source": [
        "X = X.astype({'org_id': str})"
      ],
      "execution_count": 54,
      "outputs": []
    },
    {
      "cell_type": "markdown",
      "metadata": {
        "id": "GyvL5G3Owb74",
        "colab_type": "text"
      },
      "source": [
        "# EDA"
      ]
    },
    {
      "cell_type": "code",
      "metadata": {
        "id": "WrCIru56wdX_",
        "colab_type": "code",
        "colab": {
          "base_uri": "https://localhost:8080/",
          "height": 281
        },
        "outputId": "dc5cfef6-3fcf-489f-dfab-679b9f29b92d"
      },
      "source": [
        "tdf = (user.groupby('creation_source').mean()['adopted'].sort_values(ascending = 1 == 2) * 100).reset_index()\n",
        "sns.barplot('adopted', 'creation_source', data = tdf)\n",
        "plt.ylabel('')\n",
        "plt.xlabel('')\n",
        "p = plt.title('Adopted % by creation source')"
      ],
      "execution_count": 63,
      "outputs": [
        {
          "output_type": "display_data",
          "data": {
            "image/png": "[encoded data removed]",
            "text/plain": [
              "<Figure size 432x288 with 1 Axes>"
            ]
          },
          "metadata": {
            "tags": []
          }
        }
      ]
    },
    {
      "cell_type": "code",
      "metadata": {
        "id": "MjVgF1r70620",
        "colab_type": "code",
        "colab": {
          "base_uri": "https://localhost:8080/",
          "height": 227
        },
        "outputId": "34c91f18-4c85-4f6e-8c90-a9176a32635e"
      },
      "source": [
        "fig, ax = plt.subplots(1, 2, figsize = (6, 3))\n",
        "tdf = user.groupby(['adopted', 'opted_in_to_mailing_list']).count()['name'].reset_index()\n",
        "ax[0].pie('name', data = tdf.query('adopted == 0'), autopct = lambda x: str(round(x, 2)) + '%')\n",
        "ax[0].set_title('Non adopted users')\n",
        "ax[1].pie('name', data = tdf.query('adopted == 1'), autopct = lambda x: str(round(x, 2)) + '%')\n",
        "fig.legend(['Not in mailing list', 'In mailing list'], loc = 'lower right')\n",
        "p = ax[1].set_title('Adopted users')"
      ],
      "execution_count": 103,
      "outputs": [
        {
          "output_type": "display_data",
          "data": {
            "image/png": "[encoded data removed]",
            "text/plain": [
              "<Figure size 432x216 with 2 Axes>"
            ]
          },
          "metadata": {
            "tags": []
          }
        }
      ]
    },
    {
      "cell_type": "code",
      "metadata": {
        "colab_type": "code",
        "id": "PCGo4iBqAewn",
        "colab": {
          "base_uri": "https://localhost:8080/",
          "height": 227
        },
        "outputId": "039db06c-a32f-41e9-d8fe-e106c6f0c291"
      },
      "source": [
        "fig, ax = plt.subplots(1, 2, figsize = (6, 3))\n",
        "tdf = user.groupby(['adopted', 'enabled_for_marketing_drip']).count()['name'].reset_index()\n",
        "ax[0].pie('name', data = tdf.query('adopted == 0'), autopct = lambda x: str(round(x, 2)) + '%')\n",
        "ax[0].set_title('Non adopted users')\n",
        "ax[1].pie('name', data = tdf.query('adopted == 1'), autopct = lambda x: str(round(x, 2)) + '%')\n",
        "fig.legend(['Not on the regular marketing email drip', 'On the regular marketing email drip'], loc = 'lower right')\n",
        "p = ax[1].set_title('Adopted users')"
      ],
      "execution_count": 104,
      "outputs": [
        {
          "output_type": "display_data",
          "data": {
            "image/png": "[encoded data removed]",
            "text/plain": [
              "<Figure size 432x216 with 2 Axes>"
            ]
          },
          "metadata": {
            "tags": []
          }
        }
      ]
    },
    {
      "cell_type": "markdown",
      "metadata": {
        "id": "M0iopaKFBItF",
        "colab_type": "text"
      },
      "source": [
        "# Modeling"
      ]
    },
    {
      "cell_type": "code",
      "metadata": {
        "id": "gkfksz4iDkwr",
        "colab_type": "code",
        "colab": {
          "base_uri": "https://localhost:8080/",
          "height": 69
        },
        "outputId": "37d3ba4b-f33c-47de-e765-f7508d0e1698"
      },
      "source": [
        "y.value_counts(1 == 1)"
      ],
      "execution_count": 111,
      "outputs": [
        {
          "output_type": "execute_result",
          "data": {
            "text/plain": [
              "0    0.862\n",
              "1    0.138\n",
              "Name: adopted, dtype: float64"
            ]
          },
          "metadata": {
            "tags": []
          },
          "execution_count": 111
        }
      ]
    },
    {
      "cell_type": "markdown",
      "metadata": {
        "id": "dbYSy7NaDn4Y",
        "colab_type": "text"
      },
      "source": [
        "The data is highly imbalanced with only 13.8% of adopted users."
      ]
    },
    {
      "cell_type": "markdown",
      "metadata": {
        "id": "2oN589rZBMPF",
        "colab_type": "text"
      },
      "source": [
        "One hot encoding"
      ]
    },
    {
      "cell_type": "code",
      "metadata": {
        "id": "6WwywoD6BKQm",
        "colab_type": "code",
        "colab": {}
      },
      "source": [
        "X = pd.get_dummies(X).drop(columns = ['invited_by_user_id_drop'])"
      ],
      "execution_count": 106,
      "outputs": []
    },
    {
      "cell_type": "markdown",
      "metadata": {
        "id": "8EBqjS2nCQUz",
        "colab_type": "text"
      },
      "source": [
        "Split data to training and testing set"
      ]
    },
    {
      "cell_type": "code",
      "metadata": {
        "id": "Gi5OStYjCVAj",
        "colab_type": "code",
        "colab": {}
      },
      "source": [
        "X_train, X_test, y_train, y_test = train_test_split(X, y, test_size=0.33, stratify = y)"
      ],
      "execution_count": 109,
      "outputs": []
    },
    {
      "cell_type": "markdown",
      "metadata": {
        "id": "nIjqpQyeDO4Q",
        "colab_type": "text"
      },
      "source": [
        "Test a few models with default settings using CV F1 score with weighting."
      ]
    },
    {
      "cell_type": "code",
      "metadata": {
        "id": "jFVQUjjTE0dZ",
        "colab_type": "code",
        "colab": {
          "base_uri": "https://localhost:8080/",
          "height": 143
        },
        "outputId": "358f47fb-d723-46d8-e40d-d636cc97b733"
      },
      "source": [
        "scores = [cvs(RandomForestClassifier(class_weight = 'balanced'), X_train, y_train, scoring = 'f1', cv = 3).mean()]\n",
        "scores += [cvs(svm(class_weight = 'balanced'), X_train, y_train, scoring = 'f1', cv = 3).mean()]\n",
        "scores += [cvs(LogisticRegression(class_weight = 'balanced'), X_train, y_train, scoring = 'f1', cv = 3).mean()]\n",
        "pd.DataFrame({'Model': ['Random Forest', 'SVM', 'Logistic Regression'], 'CV F1': scores})"
      ],
      "execution_count": 142,
      "outputs": [
        {
          "output_type": "execute_result",
          "data": {
            "text/html": [
              "<div>\n",
              "<style scoped>\n",
              "    .dataframe tbody tr th:only-of-type {\n",
              "        vertical-align: middle;\n",
              "    }\n",
              "\n",
              "    .dataframe tbody tr th {\n",
              "        vertical-align: top;\n",
              "    }\n",
              "\n",
              "    .dataframe thead th {\n",
              "        text-align: right;\n",
              "    }\n",
              "</style>\n",
              "<table border=\"1\" class=\"dataframe\">\n",
              "  <thead>\n",
              "    <tr style=\"text-align: right;\">\n",
              "      <th></th>\n",
              "      <th>Model</th>\n",
              "      <th>CV F1</th>\n",
              "    </tr>\n",
              "  </thead>\n",
              "  <tbody>\n",
              "    <tr>\n",
              "      <th>0</th>\n",
              "      <td>Random Forest</td>\n",
              "      <td>0.117303</td>\n",
              "    </tr>\n",
              "    <tr>\n",
              "      <th>1</th>\n",
              "      <td>SVM</td>\n",
              "      <td>0.213287</td>\n",
              "    </tr>\n",
              "    <tr>\n",
              "      <th>2</th>\n",
              "      <td>Logistic Regression</td>\n",
              "      <td>0.225169</td>\n",
              "    </tr>\n",
              "  </tbody>\n",
              "</table>\n",
              "</div>"
            ],
            "text/plain": [
              "                 Model     CV F1\n",
              "0        Random Forest  0.117303\n",
              "1                  SVM  0.213287\n",
              "2  Logistic Regression  0.225169"
            ]
          },
          "metadata": {
            "tags": []
          },
          "execution_count": 142
        }
      ]
    },
    {
      "cell_type": "markdown",
      "metadata": {
        "id": "vnBVxev6dncc",
        "colab_type": "text"
      },
      "source": [
        "The scores are too low."
      ]
    },
    {
      "cell_type": "markdown",
      "metadata": {
        "colab_type": "text",
        "id": "iX2ECc6sd5ng"
      },
      "source": [
        "Test the models again with default settings using CV F1 score with under sampling technique."
      ]
    },
    {
      "cell_type": "code",
      "metadata": {
        "id": "FatOIOLueEMt",
        "colab_type": "code",
        "colab": {}
      },
      "source": [
        "X_resampled, y_resampled = RandomUnderSampler().fit_resample(X_train, y_train)"
      ],
      "execution_count": null,
      "outputs": []
    },
    {
      "cell_type": "code",
      "metadata": {
        "colab_type": "code",
        "id": "txhrhUZEenpo",
        "colab": {
          "base_uri": "https://localhost:8080/",
          "height": 143
        },
        "outputId": "c86d3d91-7a64-44e7-9d8e-b2b50b8d2612"
      },
      "source": [
        "scores = [cvs(RandomForestClassifier(), X_resampled, y_resampled, scoring = 'f1', cv = 3).mean()]\n",
        "scores += [cvs(svm(), X_resampled, y_resampled, scoring = 'f1', cv = 3).mean()]\n",
        "scores += [cvs(LogisticRegression(), X_resampled, y_resampled, scoring = 'f1', cv = 3).mean()]\n",
        "pd.DataFrame({'Model': ['Random Forest', 'SVM', 'Logistic Regression'], 'CV F1': scores})"
      ],
      "execution_count": 137,
      "outputs": [
        {
          "output_type": "execute_result",
          "data": {
            "text/html": [
              "<div>\n",
              "<style scoped>\n",
              "    .dataframe tbody tr th:only-of-type {\n",
              "        vertical-align: middle;\n",
              "    }\n",
              "\n",
              "    .dataframe tbody tr th {\n",
              "        vertical-align: top;\n",
              "    }\n",
              "\n",
              "    .dataframe thead th {\n",
              "        text-align: right;\n",
              "    }\n",
              "</style>\n",
              "<table border=\"1\" class=\"dataframe\">\n",
              "  <thead>\n",
              "    <tr style=\"text-align: right;\">\n",
              "      <th></th>\n",
              "      <th>Model</th>\n",
              "      <th>CV F1</th>\n",
              "    </tr>\n",
              "  </thead>\n",
              "  <tbody>\n",
              "    <tr>\n",
              "      <th>0</th>\n",
              "      <td>Random Forest</td>\n",
              "      <td>0.563490</td>\n",
              "    </tr>\n",
              "    <tr>\n",
              "      <th>1</th>\n",
              "      <td>SVM</td>\n",
              "      <td>0.531419</td>\n",
              "    </tr>\n",
              "    <tr>\n",
              "      <th>2</th>\n",
              "      <td>Logistic Regression</td>\n",
              "      <td>0.546704</td>\n",
              "    </tr>\n",
              "  </tbody>\n",
              "</table>\n",
              "</div>"
            ],
            "text/plain": [
              "                 Model     CV F1\n",
              "0        Random Forest  0.563490\n",
              "1                  SVM  0.531419\n",
              "2  Logistic Regression  0.546704"
            ]
          },
          "metadata": {
            "tags": []
          },
          "execution_count": 137
        }
      ]
    },
    {
      "cell_type": "markdown",
      "metadata": {
        "id": "zvDwftkxuNrj",
        "colab_type": "text"
      },
      "source": [
        "Hyper parameters tuning"
      ]
    },
    {
      "cell_type": "code",
      "metadata": {
        "id": "RKJkTBcsfEfB",
        "colab_type": "code",
        "colab": {}
      },
      "source": [
        "params = {'criterion': ['gini', 'entropy'],\n",
        "          'min_samples_split': [10, 20, 50, 100, 150], 'max_features': ['sqrt', 'log2']}\n",
        "model = RandomizedSearchCV(RandomForestClassifier(), params, cv = 3, scoring = 'f1').fit(X_resampled, y_resampled)"
      ],
      "execution_count": 164,
      "outputs": []
    },
    {
      "cell_type": "markdown",
      "metadata": {
        "id": "6xJE9g175xRH",
        "colab_type": "text"
      },
      "source": [
        "Model performance"
      ]
    },
    {
      "cell_type": "code",
      "metadata": {
        "id": "vvm2KQ-2v8mo",
        "colab_type": "code",
        "colab": {
          "base_uri": "https://localhost:8080/",
          "height": 34
        },
        "outputId": "312a8c81-f2a5-4904-9b1e-627de472091d"
      },
      "source": [
        "model.best_score_"
      ],
      "execution_count": 165,
      "outputs": [
        {
          "output_type": "execute_result",
          "data": {
            "text/plain": [
              "0.5665043687077884"
            ]
          },
          "metadata": {
            "tags": []
          },
          "execution_count": 165
        }
      ]
    },
    {
      "cell_type": "markdown",
      "metadata": {
        "id": "wHjI5FCh6D50",
        "colab_type": "text"
      },
      "source": [
        "The model doesn't seem to improve much with hyper parameter tuning."
      ]
    },
    {
      "cell_type": "code",
      "metadata": {
        "id": "1WnNV0SByX3Q",
        "colab_type": "code",
        "colab": {
          "base_uri": "https://localhost:8080/",
          "height": 173
        },
        "outputId": "9799c573-8e42-4900-8bff-f5e283ea34f7"
      },
      "source": [
        "print(classification_report(y_test,model.predict(X_test)))"
      ],
      "execution_count": 168,
      "outputs": [
        {
          "output_type": "stream",
          "text": [
            "              precision    recall  f1-score   support\n",
            "\n",
            "           0       0.88      0.54      0.67      3414\n",
            "           1       0.16      0.55      0.25       546\n",
            "\n",
            "    accuracy                           0.54      3960\n",
            "   macro avg       0.52      0.55      0.46      3960\n",
            "weighted avg       0.78      0.54      0.61      3960\n",
            "\n"
          ],
          "name": "stdout"
        }
      ]
    },
    {
      "cell_type": "markdown",
      "metadata": {
        "id": "XqxaaUO36aHe",
        "colab_type": "text"
      },
      "source": [
        "# Important features"
      ]
    },
    {
      "cell_type": "code",
      "metadata": {
        "id": "l5OkV7N56fSh",
        "colab_type": "code",
        "colab": {}
      },
      "source": [
        "scores = model.best_estimator_.feature_importances_\n",
        "scores = pd.DataFrame({'Feature': X.columns, 'Importance Score': scores}).sort_values('Importance Score', ascending = 1 == 2)"
      ],
      "execution_count": 173,
      "outputs": []
    },
    {
      "cell_type": "code",
      "metadata": {
        "id": "9iAlWxBi69hl",
        "colab_type": "code",
        "colab": {
          "base_uri": "https://localhost:8080/",
          "height": 281
        },
        "outputId": "d7d21c89-7646-4694-a0bf-1ac3710c46a8"
      },
      "source": [
        "tdf = scores.head()\n",
        "sns.barplot(y = 'Feature', x = 'Importance Score', data = tdf)\n",
        "plt.ylabel('')\n",
        "plt.xlabel('')\n",
        "_ = plt.title('Feature importance score for top 5 features')"
      ],
      "execution_count": 176,
      "outputs": [
        {
          "output_type": "display_data",
          "data": {
            "image/png": "[encoded data removed]",
            "text/plain": [
              "<Figure size 432x288 with 1 Axes>"
            ]
          },
          "metadata": {
            "tags": []
          }
        }
      ]
    },
    {
      "cell_type": "code",
      "metadata": {
        "id": "xhu5-OLd9XKR",
        "colab_type": "code",
        "colab": {
          "base_uri": "https://localhost:8080/",
          "height": 245
        },
        "outputId": "0c6c8865-937c-4022-ba33-aebf62d84551"
      },
      "source": [
        "fig, ax = plt.subplots(1, 2)\n",
        "tdf = user[['org_id', 'adopted']].copy()\n",
        "ax[0].pie('org_id', autopct = lambda x: str(round(x, 2)) + '%', \n",
        "        data = tdf.query('org_id == 0').groupby('adopted').count().reset_index())\n",
        "ax[0].set_title('Organization 0')\n",
        "ax[1].pie('org_id', autopct = lambda x: str(round(x, 2)) + '%', \n",
        "        data = tdf.query('org_id != 0').groupby('adopted').count().reset_index())\n",
        "ax[1].set_title('Not organization 0')\n",
        "_ = fig.legend(['Not adopted', 'Adopted'])"
      ],
      "execution_count": 197,
      "outputs": [
        {
          "output_type": "display_data",
          "data": {
            "image/png": "[encoded data removed]",
            "text/plain": [
              "<Figure size 432x288 with 2 Axes>"
            ]
          },
          "metadata": {
            "tags": []
          }
        }
      ]
    },
    {
      "cell_type": "code",
      "metadata": {
        "colab_type": "code",
        "id": "rb4joE2ZFP1b",
        "colab": {
          "base_uri": "https://localhost:8080/",
          "height": 245
        },
        "outputId": "70cb85c0-6870-4617-c742-4793d4b44e23"
      },
      "source": [
        "fig, ax = plt.subplots(1, 2)\n",
        "tdf = user[['org_id', 'adopted']].copy()\n",
        "ax[0].pie('org_id', autopct = lambda x: str(round(x, 2)) + '%', \n",
        "        data = tdf.query('org_id == 1').groupby('adopted').count().reset_index())\n",
        "ax[0].set_title('Organization 1')\n",
        "ax[1].pie('org_id', autopct = lambda x: str(round(x, 2)) + '%', \n",
        "        data = tdf.query('org_id != 1').groupby('adopted').count().reset_index())\n",
        "ax[1].set_title('Not organization 1')\n",
        "_ = fig.legend(['Not adopted', 'Adopted'])"
      ],
      "execution_count": 198,
      "outputs": [
        {
          "output_type": "display_data",
          "data": {
            "image/png": "[encoded data removed]",
            "text/plain": [
              "<Figure size 432x288 with 2 Axes>"
            ]
          },
          "metadata": {
            "tags": []
          }
        }
      ]
    }
  ]
}